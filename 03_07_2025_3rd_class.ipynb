{
  "cells": [
    {
      "cell_type": "code",
      "source": [
        "a,b = 10,20\n",
        "max=b if b>a else b\n",
        "print(max)\n",
        "\n",
        "min=a if a<b else a\n",
        "print(min)"
      ],
      "metadata": {
        "id": "7j8XD0ZcvkUK",
        "outputId": "4b82f7f6-d07a-4c92-b1ab-f5a8e50bb942",
        "colab": {
          "base_uri": "https://localhost:8080/"
        }
      },
      "execution_count": null,
      "outputs": [
        {
          "output_type": "stream",
          "name": "stdout",
          "text": [
            "20\n",
            "10\n"
          ]
        }
      ]
    },
    {
      "cell_type": "code",
      "source": [
        "x=24\n",
        "y=20\n",
        "list=[10,20,30,40,50]\n",
        "if (x not in list):\n",
        "  print(\"x is not present in given list\")\n",
        "else:\n",
        "    print(\"x is present in given list\")\n",
        "if (y in list):\n",
        "      print(\"y is present in given list\")\n",
        "else:\n",
        "      print(\"y is not present in given list\")"
      ],
      "metadata": {
        "id": "l_ZSuI0oxlYp",
        "outputId": "3eb47039-1208-4ac6-df78-b4710fcd66ff",
        "colab": {
          "base_uri": "https://localhost:8080/"
        }
      },
      "execution_count": null,
      "outputs": [
        {
          "output_type": "stream",
          "name": "stdout",
          "text": [
            "x is not present in given list\n",
            "y is present in given list\n"
          ]
        }
      ]
    },
    {
      "cell_type": "code",
      "source": [
        "name=\"alex\"\n",
        "age=0\n",
        "\n",
        "if name ==\"alex\" or name == \"john\" and age >=2:\n",
        "  print(\"1.hello! welcome\")\n",
        "else:\n",
        "    print(\"1.good bye!!\")\n",
        "\n",
        "\n",
        "\n",
        "\n",
        "if name ==\"bhumika\" or name == \"bheem\" and age>=2:\n",
        "  print(\"2.hello! welcome\")\n",
        "else:\n",
        "  print(\"2.good bye!!\")\n",
        "\n",
        "\n",
        "if name == \"dhvani\" and name==\"dhanushree\":\n",
        "  print(\"3.hello! welcome\")\n",
        "else:\n",
        "  print(\"3.good bye!!\")\n",
        "\n",
        "\n",
        "\n",
        "if name == \"vansh\" or name== \"bhumika\" and age>=0 :\n",
        "    print(\"4.hello! welcome\")\n",
        "else:\n",
        "  print(\"4.good bye!!\")"
      ],
      "metadata": {
        "id": "EbLAWqs0zaet",
        "outputId": "7482ad81-0f2a-44bd-8d6b-5a38a2fcc8e2",
        "colab": {
          "base_uri": "https://localhost:8080/"
        }
      },
      "execution_count": null,
      "outputs": [
        {
          "output_type": "stream",
          "name": "stdout",
          "text": [
            "1.hello! welcome\n",
            "2.good bye!!\n",
            "3.good bye!!\n",
            "4.good bye!!\n"
          ]
        }
      ]
    },
    {
      "cell_type": "code",
      "source": [
        "print(100/10*10)\n",
        "print(5-2+3)\n",
        "print(500/10*2)\n",
        "print(5-30+4)\n",
        "print(100-70+3)"
      ],
      "metadata": {
        "id": "BbSnnN1s4t0T",
        "outputId": "b75a5e3b-2d7c-4bee-c920-234467fd0280",
        "colab": {
          "base_uri": "https://localhost:8080/"
        }
      },
      "execution_count": null,
      "outputs": [
        {
          "output_type": "stream",
          "name": "stdout",
          "text": [
            "100.0\n",
            "6\n",
            "100.0\n",
            "-21\n",
            "33\n"
          ]
        }
      ]
    },
    {
      "cell_type": "code",
      "source": [
        "print(100%12)\n",
        "print(123_90)"
      ],
      "metadata": {
        "id": "MByq4Sz-5WA6",
        "outputId": "08c25107-d54a-45d8-be42-9d1000e9fa1e",
        "colab": {
          "base_uri": "https://localhost:8080/"
        }
      },
      "execution_count": null,
      "outputs": [
        {
          "output_type": "stream",
          "name": "stdout",
          "text": [
            "4\n",
            "12390\n"
          ]
        }
      ]
    }
  ],
  "metadata": {
    "colab": {
      "toc_visible": true,
      "provenance": []
    },
    "kernelspec": {
      "display_name": "Python 3",
      "name": "python3"
    }
  },
  "nbformat": 4,
  "nbformat_minor": 0
}