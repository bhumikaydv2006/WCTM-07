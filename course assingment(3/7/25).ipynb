{
  "cells": [
    {
      "cell_type": "markdown",
      "metadata": {
        "id": "view-in-github",
        "colab_type": "text"
      },
      "source": [
        "<a href=\"https://colab.research.google.com/github/bhumikaydv2006/WCTM-07/blob/main/course%20assingment(3/7/25).ipynb\" target=\"_parent\"><img src=\"https://colab.research.google.com/assets/colab-badge.svg\" alt=\"Open In Colab\"/></a>"
      ]
    },
    {
      "cell_type": "markdown",
      "source": [
        "##Q write the diffrence between \"in\" and \"==\""
      ],
      "metadata": {
        "id": "08eKJAAYqZ8T"
      }
    },
    {
      "cell_type": "code",
      "source": [
        "#'in' checks for membership\n",
        "print('a'in 'apple')\n",
        "\n",
        "#'==' checks for equality\n",
        "print('apple'== 'apple')"
      ],
      "metadata": {
        "id": "dH-lGBRqqrLN",
        "outputId": "8af6d0b3-ed9e-42a5-a353-54671a56e626",
        "colab": {
          "base_uri": "https://localhost:8080/"
        }
      },
      "execution_count": 1,
      "outputs": [
        {
          "output_type": "stream",
          "name": "stdout",
          "text": [
            "True\n",
            "True\n"
          ]
        }
      ]
    },
    {
      "cell_type": "markdown",
      "source": [
        "##Q write a example of membership operator"
      ],
      "metadata": {
        "id": "La6fnDsjrBUQ"
      }
    },
    {
      "cell_type": "code",
      "source": [
        "fruits = ['apple', 'banana', 'cherry']\n",
        "print('banana' in fruits)\n",
        "print('orange' not in fruits)"
      ],
      "metadata": {
        "id": "d3FcGK16rII_",
        "outputId": "5a866537-e21a-44a7-afcf-57a0848e4df6",
        "colab": {
          "base_uri": "https://localhost:8080/"
        }
      },
      "execution_count": 2,
      "outputs": [
        {
          "output_type": "stream",
          "name": "stdout",
          "text": [
            "True\n",
            "True\n"
          ]
        }
      ]
    },
    {
      "cell_type": "markdown",
      "source": [
        "##Q write a code of area of equilateral triangle"
      ],
      "metadata": {
        "id": "V0downLRrVqF"
      }
    },
    {
      "cell_type": "code",
      "source": [
        "side=float(input(\"enter the side of equilateral triangle\"))\n",
        "area=(math.sqrt(3)/4)*(side**2)\n",
        "print(\"area of equilateral triangle is\",float(area))"
      ],
      "metadata": {
        "collapsed": true,
        "id": "XqwRprQOrd5_",
        "outputId": "8e91ae52-0729-4d56-a7c6-b6130c6d8396",
        "colab": {
          "base_uri": "https://localhost:8080/",
          "height": 198
        }
      },
      "execution_count": 5,
      "outputs": [
        {
          "name": "stdout",
          "output_type": "stream",
          "text": [
            "enter the side of equilateral triangle3\n"
          ]
        },
        {
          "output_type": "error",
          "ename": "NameError",
          "evalue": "name 'math' is not defined",
          "traceback": [
            "\u001b[0;31m---------------------------------------------------------------------------\u001b[0m",
            "\u001b[0;31mNameError\u001b[0m                                 Traceback (most recent call last)",
            "\u001b[0;32m/tmp/ipython-input-5-3280454971.py\u001b[0m in \u001b[0;36m<cell line: 0>\u001b[0;34m()\u001b[0m\n\u001b[1;32m      1\u001b[0m \u001b[0mside\u001b[0m\u001b[0;34m=\u001b[0m\u001b[0mfloat\u001b[0m\u001b[0;34m(\u001b[0m\u001b[0minput\u001b[0m\u001b[0;34m(\u001b[0m\u001b[0;34m\"enter the side of equilateral triangle\"\u001b[0m\u001b[0;34m)\u001b[0m\u001b[0;34m)\u001b[0m\u001b[0;34m\u001b[0m\u001b[0;34m\u001b[0m\u001b[0m\n\u001b[0;32m----> 2\u001b[0;31m \u001b[0marea\u001b[0m\u001b[0;34m=\u001b[0m\u001b[0;34m(\u001b[0m\u001b[0mmath\u001b[0m\u001b[0;34m.\u001b[0m\u001b[0msqrt\u001b[0m\u001b[0;34m(\u001b[0m\u001b[0;36m3\u001b[0m\u001b[0;34m)\u001b[0m\u001b[0;34m/\u001b[0m\u001b[0;36m4\u001b[0m\u001b[0;34m)\u001b[0m\u001b[0;34m*\u001b[0m\u001b[0;34m(\u001b[0m\u001b[0mside\u001b[0m\u001b[0;34m**\u001b[0m\u001b[0;36m2\u001b[0m\u001b[0;34m)\u001b[0m\u001b[0;34m\u001b[0m\u001b[0;34m\u001b[0m\u001b[0m\n\u001b[0m\u001b[1;32m      3\u001b[0m \u001b[0mprint\u001b[0m\u001b[0;34m(\u001b[0m\u001b[0;34m\"area of equilateral triangle is\"\u001b[0m\u001b[0;34m,\u001b[0m\u001b[0mfloat\u001b[0m\u001b[0;34m(\u001b[0m\u001b[0marea\u001b[0m\u001b[0;34m)\u001b[0m\u001b[0;34m)\u001b[0m\u001b[0;34m\u001b[0m\u001b[0;34m\u001b[0m\u001b[0m\n",
            "\u001b[0;31mNameError\u001b[0m: name 'math' is not defined"
          ]
        }
      ]
    },
    {
      "cell_type": "markdown",
      "source": [
        "##Q write code for area of rhombus"
      ],
      "metadata": {
        "id": "pOprOP-xsEkg"
      }
    },
    {
      "cell_type": "code",
      "source": [
        "d1=float(input(\"enter the first diagonal of rhombus\"))\n",
        "d2=float(input(\"enter the second diagonal of rhombus\"))\n",
        "area=(d1*d2)/2\n",
        "print(\"area of rhombus is\",float(area))\n"
      ],
      "metadata": {
        "id": "MFpTx6lGsKbx",
        "outputId": "789772e1-91f8-481e-9099-12e144765eb3",
        "colab": {
          "base_uri": "https://localhost:8080/"
        }
      },
      "execution_count": 6,
      "outputs": [
        {
          "output_type": "stream",
          "name": "stdout",
          "text": [
            "enter the first diagonal of rhombus4\n",
            "enter the second diagonal of rhombus5\n",
            "area of rhombus is 10.0\n"
          ]
        }
      ]
    },
    {
      "cell_type": "markdown",
      "source": [
        "##Q write a code of comparing 3 number and display the largest ,middle and smallest"
      ],
      "metadata": {
        "id": "LDByn9koscfB"
      }
    },
    {
      "cell_type": "code",
      "source": [
        "a=int(input(\"enter the first number\"))\n",
        "b=int(input(\"enter the second number\"))\n",
        "c=int(input(\"enter the third number\"))\n",
        "\n",
        "nums=[a'b'c]\n",
        "nums.sort():\n",
        "    print(\"largest number is\",nums[1])\n",
        "    print(\"middle number is\",nums[0])\n",
        "    print(\"smallest number is\",nums[-1]"
      ],
      "metadata": {
        "id": "El2ysid2spT-",
        "outputId": "2bc34c67-761d-43c3-f4e2-f8743f9b2c0a",
        "colab": {
          "base_uri": "https://localhost:8080/",
          "height": 108
        }
      },
      "execution_count": 8,
      "outputs": [
        {
          "output_type": "error",
          "ename": "SyntaxError",
          "evalue": "invalid syntax. Perhaps you forgot a comma? (ipython-input-8-598158890.py, line 5)",
          "traceback": [
            "\u001b[0;36m  File \u001b[0;32m\"/tmp/ipython-input-8-598158890.py\"\u001b[0;36m, line \u001b[0;32m5\u001b[0m\n\u001b[0;31m    nums=[a'b'c]\u001b[0m\n\u001b[0m           ^\u001b[0m\n\u001b[0;31mSyntaxError\u001b[0m\u001b[0;31m:\u001b[0m invalid syntax. Perhaps you forgot a comma?\n"
          ]
        }
      ]
    },
    {
      "cell_type": "markdown",
      "source": [
        "##Q write a code for making calculator with different cases of operator and with display the result"
      ],
      "metadata": {
        "id": "fMyFCMtStD6W"
      }
    },
    {
      "cell_type": "code",
      "source": [
        "num1=float(input(\"enter the first number\"))\n",
        "num2=float(input(\"enter the second number\"))\n",
        "operator=input(\"enter the operator\")\n",
        "\n",
        "if operator=='+':\n",
        "    print(num1+num2)\n",
        "elif operator=='-':\n",
        "    print(num1-num2)\n",
        "elif operator=='*':\n",
        "    print(num1*num2)\n",
        "elif operator=='/':\n",
        "    print(num1/num2)"
      ],
      "metadata": {
        "id": "Gh-cSn1jtSVn",
        "outputId": "2efca0ad-4f5e-48ac-a870-a684c588d334",
        "colab": {
          "base_uri": "https://localhost:8080/"
        }
      },
      "execution_count": 9,
      "outputs": [
        {
          "output_type": "stream",
          "name": "stdout",
          "text": [
            "enter the first number4\n",
            "enter the second number3\n",
            "enter the operator-\n",
            "1.0\n"
          ]
        }
      ]
    },
    {
      "cell_type": "markdown",
      "source": [
        "##Q write a code of comparing the 2 student with their detail like name ,course name ,college name,email id, roll number"
      ],
      "metadata": {
        "id": "nhnw-meJtfWC"
      }
    },
    {
      "cell_type": "code",
      "source": [
        "student1={\"name\":bhumika\",\"course name\":\"\",\"college name\":\"\",\"email id\":\"\",\"roll number\":\"\"}\n",
        "student2={\"name\":\"\",\"course name\":\"\",\"college name\":\"\",\"email id\":\"\",\"roll number\":\"\"}"
      ],
      "metadata": {
        "id": "Ht1N-iYMtvDc",
        "outputId": "66b14eb5-d3cb-432e-bd16-216dd98e49b9",
        "colab": {
          "base_uri": "https://localhost:8080/",
          "height": 108
        }
      },
      "execution_count": 10,
      "outputs": [
        {
          "output_type": "error",
          "ename": "SyntaxError",
          "evalue": "invalid syntax (ipython-input-10-486533194.py, line 1)",
          "traceback": [
            "\u001b[0;36m  File \u001b[0;32m\"/tmp/ipython-input-10-486533194.py\"\u001b[0;36m, line \u001b[0;32m1\u001b[0m\n\u001b[0;31m    student1={\"name:\",\"course name\":\"\",\"college name\":\"\",\"email id\":\"\",\"roll number\":\"\"}\u001b[0m\n\u001b[0m                                   ^\u001b[0m\n\u001b[0;31mSyntaxError\u001b[0m\u001b[0;31m:\u001b[0m invalid syntax\n"
          ]
        }
      ]
    },
    {
      "cell_type": "markdown",
      "source": [
        "##Q write a code listing 10 students with predefined details"
      ],
      "metadata": {
        "id": "9QXlrQDRuGtL"
      }
    },
    {
      "cell_type": "code",
      "source": [
        "students=[\n",
        "    {\"name\":\"a\",\"roll\":1},\n",
        "    {\"name\":\"b\",\"roll\":2},\n",
        "    {\"name\":\"c\",\"roll\":3},\n",
        "    {\"name\":\"d\",\"roll\":4},\n",
        "    {\"name\":\"e\",\"roll\":5},\n",
        "    {\"name\":\"f\",\"roll\":6},\n",
        "    {\"name\":\"g\",\"roll\":7},\n",
        "    {\"name\":\"h\",\"roll\":8},\n",
        "    {\"name\":\"i\",\"roll\":9},\n",
        "    {\"name\":\"j\",\"roll\":10},\n",
        "]\n",
        "for s in students:\n",
        "  print(s)"
      ],
      "metadata": {
        "id": "qvrARGvOuR1r",
        "outputId": "1067c2ed-aa2c-4049-ac7e-aaf8c8782f96",
        "colab": {
          "base_uri": "https://localhost:8080/"
        }
      },
      "execution_count": 12,
      "outputs": [
        {
          "output_type": "stream",
          "name": "stdout",
          "text": [
            "{'name': 'a', 'roll': 1}\n",
            "{'name': 'b', 'roll': 2}\n",
            "{'name': 'c', 'roll': 3}\n",
            "{'name': 'd', 'roll': 4}\n",
            "{'name': 'e', 'roll': 5}\n",
            "{'name': 'f', 'roll': 6}\n",
            "{'name': 'g', 'roll': 7}\n",
            "{'name': 'h', 'roll': 8}\n",
            "{'name': 'i', 'roll': 9}\n",
            "{'name': 'j', 'roll': 10}\n"
          ]
        }
      ]
    },
    {
      "cell_type": "markdown",
      "source": [
        "##Qcode of using else statement with while loop"
      ],
      "metadata": {
        "id": "DscyZ2KUvefb"
      }
    },
    {
      "cell_type": "code",
      "source": [
        "count=0\n",
        "while count<5:\n",
        "  if count%2==0:\n",
        "    print(count, \"is even\")\n",
        "  else:\n",
        "      print(count, \"is odd\")\n",
        "      count+= 1"
      ],
      "metadata": {
        "id": "Dosbnf2yvm4b",
        "outputId": "81cca321-4b64-4d9c-932c-f1d58a9ba731",
        "colab": {
          "base_uri": "https://localhost:8080/",
          "height": 108
        }
      },
      "execution_count": 13,
      "outputs": [
        {
          "output_type": "error",
          "ename": "SyntaxError",
          "evalue": "invalid syntax (ipython-input-13-4047368007.py, line 5)",
          "traceback": [
            "\u001b[0;36m  File \u001b[0;32m\"/tmp/ipython-input-13-4047368007.py\"\u001b[0;36m, line \u001b[0;32m5\u001b[0m\n\u001b[0;31m    else:\u001b[0m\n\u001b[0m    ^\u001b[0m\n\u001b[0;31mSyntaxError\u001b[0m\u001b[0;31m:\u001b[0m invalid syntax\n"
          ]
        }
      ]
    }
  ],
  "metadata": {
    "colab": {
      "name": "Welcome to Colab",
      "provenance": [],
      "include_colab_link": true
    },
    "kernelspec": {
      "display_name": "Python 3",
      "name": "python3"
    }
  },
  "nbformat": 4,
  "nbformat_minor": 0
}